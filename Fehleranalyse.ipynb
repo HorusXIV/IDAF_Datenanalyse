{
 "cells": [
  {
   "cell_type": "code",
   "execution_count": 1,
   "metadata": {},
   "outputs": [],
   "source": [
    "import pandas as pd\n",
    "import numpy as np\n",
    "import matplotlib.pyplot as plt\n",
    "import seaborn as sns\n",
    "from sklearn.linear_model import LinearRegression"
   ]
  },
  {
   "cell_type": "code",
   "execution_count": 22,
   "metadata": {},
   "outputs": [],
   "source": [
    "df = pd.read_csv(\"Measurements.csv\")\n",
    "df['time'] *= 1000000"
   ]
  },
  {
   "cell_type": "code",
   "execution_count": 21,
   "metadata": {},
   "outputs": [
    {
     "name": "stdout",
     "output_type": "stream",
     "text": [
      "          material  distance   time_std  time_mean  percentage_deviation\n",
      "0   carbon dioxide      0.17  10.198039      656.0              1.554579\n",
      "1   carbon dioxide      0.25  14.696938      948.0              1.550310\n",
      "2   carbon dioxide      0.29  30.331502     1110.0              2.732568\n",
      "3   carbon dioxide      0.32  23.323808     1224.0              1.905540\n",
      "4          plastic      0.20   4.898979      136.0              3.602191\n",
      "5          plastic      0.40  20.976177      270.0              7.768954\n",
      "6          plastic      0.60   8.000000      414.0              1.932367\n",
      "7          plastic      0.82  23.323808      566.0              4.120814\n",
      "8            water      0.30  13.541049      184.8              7.327407\n",
      "9            water      0.35   2.332381      215.6              1.081809\n",
      "10           water      0.40   4.630335      239.6              1.932527\n"
     ]
    }
   ],
   "source": [
    "# Calculate the population standard deviation of 'time' for each unique combination of 'material' and 'distance'\n",
    "std_deviation_df = df.groupby(['material', 'distance'])['time'].std(ddof=0).reset_index()\n",
    "\n",
    "# Calculate the mean of 'time' for each unique combination of 'material' and 'distance'\n",
    "mean_df = df.groupby(['material', 'distance'])['time'].mean().reset_index()\n",
    "\n",
    "# Merge the two DataFrames to calculate the percentage deviation\n",
    "combined_df = std_deviation_df.merge(mean_df, on=['material', 'distance'], suffixes=('_std', '_mean'))\n",
    "\n",
    "# Calculate the percentage deviation\n",
    "combined_df['percentage_deviation'] = (combined_df['time_std'] / combined_df['time_mean']) * 100\n",
    "\n",
    "# Display the resulting DataFrame with standard deviation and percentage deviation\n",
    "print(combined_df)"
   ]
  }
 ],
 "metadata": {
  "kernelspec": {
   "display_name": "base",
   "language": "python",
   "name": "python3"
  },
  "language_info": {
   "codemirror_mode": {
    "name": "ipython",
    "version": 3
   },
   "file_extension": ".py",
   "mimetype": "text/x-python",
   "name": "python",
   "nbconvert_exporter": "python",
   "pygments_lexer": "ipython3",
   "version": "3.11.4"
  }
 },
 "nbformat": 4,
 "nbformat_minor": 2
}
